{
  "nbformat": 4,
  "nbformat_minor": 0,
  "metadata": {
    "colab": {
      "provenance": [],
      "collapsed_sections": [
        "XRNIkQZyjGmQ"
      ],
      "include_colab_link": true
    },
    "kernelspec": {
      "name": "python3",
      "display_name": "Python 3"
    },
    "language_info": {
      "name": "python"
    }
  },
  "cells": [
    {
      "cell_type": "markdown",
      "metadata": {
        "id": "view-in-github",
        "colab_type": "text"
      },
      "source": [
        "<a href=\"https://colab.research.google.com/github/lucyporte/MUDSS/blob/main/Copy_of_lab_instructions.ipynb\" target=\"_parent\"><img src=\"https://colab.research.google.com/assets/colab-badge.svg\" alt=\"Open In Colab\"/></a>"
      ]
    },
    {
      "cell_type": "markdown",
      "source": [
        "# 1. Environment Initialization"
      ],
      "metadata": {
        "id": "EemSN8kLsnPo"
      }
    },
    {
      "cell_type": "markdown",
      "source": [
        "## Install/upgrade libraries\n",
        "\n",
        "Google Colab provides us with a pre-configured environment, but some packages are either outdated or have incompatiable issues. \n",
        "\n",
        "Therefore we need to upgrade them or reinstall them before."
      ],
      "metadata": {
        "id": "XRNIkQZyjGmQ"
      }
    },
    {
      "cell_type": "code",
      "execution_count": null,
      "metadata": {
        "colab": {
          "base_uri": "https://localhost:8080/"
        },
        "id": "_YKHDBswf7wN",
        "outputId": "170dc5c3-9177-482a-d9ad-3e5d94d9bbfe"
      },
      "outputs": [
        {
          "output_type": "stream",
          "name": "stdout",
          "text": [
            "Looking in indexes: https://pypi.org/simple, https://us-python.pkg.dev/colab-wheels/public/simple/\n",
            "Requirement already satisfied: pandas in /usr/local/lib/python3.7/dist-packages (1.3.5)\n",
            "Requirement already satisfied: numpy>=1.17.3 in /usr/local/lib/python3.7/dist-packages (from pandas) (1.21.6)\n",
            "Requirement already satisfied: pytz>=2017.3 in /usr/local/lib/python3.7/dist-packages (from pandas) (2022.2.1)\n",
            "Requirement already satisfied: python-dateutil>=2.7.3 in /usr/local/lib/python3.7/dist-packages (from pandas) (2.8.2)\n",
            "Requirement already satisfied: six>=1.5 in /usr/local/lib/python3.7/dist-packages (from python-dateutil>=2.7.3->pandas) (1.15.0)\n",
            "Looking in indexes: https://pypi.org/simple, https://us-python.pkg.dev/colab-wheels/public/simple/\n",
            "Requirement already satisfied: pandas_datareader in /usr/local/lib/python3.7/dist-packages (0.10.0)\n",
            "Requirement already satisfied: lxml in /usr/local/lib/python3.7/dist-packages (from pandas_datareader) (4.9.1)\n",
            "Requirement already satisfied: pandas>=0.23 in /usr/local/lib/python3.7/dist-packages (from pandas_datareader) (1.3.5)\n",
            "Requirement already satisfied: requests>=2.19.0 in /usr/local/lib/python3.7/dist-packages (from pandas_datareader) (2.23.0)\n",
            "Requirement already satisfied: pytz>=2017.3 in /usr/local/lib/python3.7/dist-packages (from pandas>=0.23->pandas_datareader) (2022.2.1)\n",
            "Requirement already satisfied: python-dateutil>=2.7.3 in /usr/local/lib/python3.7/dist-packages (from pandas>=0.23->pandas_datareader) (2.8.2)\n",
            "Requirement already satisfied: numpy>=1.17.3 in /usr/local/lib/python3.7/dist-packages (from pandas>=0.23->pandas_datareader) (1.21.6)\n",
            "Requirement already satisfied: six>=1.5 in /usr/local/lib/python3.7/dist-packages (from python-dateutil>=2.7.3->pandas>=0.23->pandas_datareader) (1.15.0)\n",
            "Requirement already satisfied: chardet<4,>=3.0.2 in /usr/local/lib/python3.7/dist-packages (from requests>=2.19.0->pandas_datareader) (3.0.4)\n",
            "Requirement already satisfied: idna<3,>=2.5 in /usr/local/lib/python3.7/dist-packages (from requests>=2.19.0->pandas_datareader) (2.10)\n",
            "Requirement already satisfied: urllib3!=1.25.0,!=1.25.1,<1.26,>=1.21.1 in /usr/local/lib/python3.7/dist-packages (from requests>=2.19.0->pandas_datareader) (1.24.3)\n",
            "Requirement already satisfied: certifi>=2017.4.17 in /usr/local/lib/python3.7/dist-packages (from requests>=2.19.0->pandas_datareader) (2022.6.15)\n",
            "Looking in indexes: https://pypi.org/simple, https://us-python.pkg.dev/colab-wheels/public/simple/\n",
            "Requirement already satisfied: matplotlib in /usr/local/lib/python3.7/dist-packages (3.5.3)\n",
            "Requirement already satisfied: pillow>=6.2.0 in /usr/local/lib/python3.7/dist-packages (from matplotlib) (7.1.2)\n",
            "Requirement already satisfied: python-dateutil>=2.7 in /usr/local/lib/python3.7/dist-packages (from matplotlib) (2.8.2)\n",
            "Requirement already satisfied: kiwisolver>=1.0.1 in /usr/local/lib/python3.7/dist-packages (from matplotlib) (1.4.4)\n",
            "Requirement already satisfied: fonttools>=4.22.0 in /usr/local/lib/python3.7/dist-packages (from matplotlib) (4.37.4)\n",
            "Requirement already satisfied: packaging>=20.0 in /usr/local/lib/python3.7/dist-packages (from matplotlib) (21.3)\n",
            "Requirement already satisfied: pyparsing>=2.2.1 in /usr/local/lib/python3.7/dist-packages (from matplotlib) (3.0.9)\n",
            "Requirement already satisfied: cycler>=0.10 in /usr/local/lib/python3.7/dist-packages (from matplotlib) (0.11.0)\n",
            "Requirement already satisfied: numpy>=1.17 in /usr/local/lib/python3.7/dist-packages (from matplotlib) (1.21.6)\n",
            "Requirement already satisfied: typing-extensions in /usr/local/lib/python3.7/dist-packages (from kiwisolver>=1.0.1->matplotlib) (4.1.1)\n",
            "Requirement already satisfied: six>=1.5 in /usr/local/lib/python3.7/dist-packages (from python-dateutil>=2.7->matplotlib) (1.15.0)\n"
          ]
        }
      ],
      "source": [
        "# upgrade basic libraries, these are all pre-installed by colab but often with old versions\n",
        "!pip install --upgrade pandas\n",
        "!pip install --upgrade pandas_datareader\n",
        "!pip install --upgrade matplotlib"
      ]
    },
    {
      "cell_type": "markdown",
      "source": [
        "## Exercise 1:\n",
        "\n",
        "use `pip` command to install package `yfinance`.\n",
        "\n",
        "Note:  `!` needs to be added in front of `pip` to make the notebook recognize it's a terminal command, not a python code\n"
      ],
      "metadata": {
        "id": "HWItUpsU8f3R"
      }
    },
    {
      "cell_type": "code",
      "source": [
        "# !pip install yfinance\n",
        "\n",
        "!pip install yfinance"
      ],
      "metadata": {
        "id": "7QYR1imXiNxB",
        "colab": {
          "base_uri": "https://localhost:8080/"
        },
        "outputId": "3993a617-616d-4642-badc-005be616187d"
      },
      "execution_count": null,
      "outputs": [
        {
          "output_type": "stream",
          "name": "stdout",
          "text": [
            "^C\n"
          ]
        }
      ]
    },
    {
      "cell_type": "markdown",
      "source": [
        "## Exercise 2:\n",
        "Let's import libraries:\n",
        "\n",
        "By following the steps as we imported pandas\n",
        "1. import pandas.datareader.data' as 'web'.\n",
        "2. import 'matplotlob.pyplot' as 'plt'.\n"
      ],
      "metadata": {
        "id": "7OlWk8Q4jEgk"
      }
    },
    {
      "cell_type": "code",
      "source": [
        "# import pandas\n",
        "import pandas as pd\n",
        "# Series and DataFrame are both submodules of pandas\n",
        "from pandas import Series, DataFrame\n",
        "\n",
        "# Task (2)\n",
        "import pandas_datareader.data as web\n",
        "\n",
        "# Task (2)\n",
        "import matplotlib.pyplot as plt\n",
        "\n",
        "# import yfinance\n",
        "import yfinance as yf"
      ],
      "metadata": {
        "id": "S8ULRr6rjCF9"
      },
      "execution_count": null,
      "outputs": []
    },
    {
      "cell_type": "markdown",
      "source": [
        "# 2. Load your data\n",
        "\n",
        "Remember the starting point of stock market analysis is to specify a `time period`. "
      ],
      "metadata": {
        "id": "JJ2O_z8ju7-x"
      }
    },
    {
      "cell_type": "code",
      "source": [
        "# (4)declare start and end time \n",
        "import datetime\n",
        "start = datetime.datetime(2002,1,1)\n",
        "end = datetime.datetime(2022,1,1)"
      ],
      "metadata": {
        "id": "pX9hTI_7vx84"
      },
      "execution_count": null,
      "outputs": []
    },
    {
      "cell_type": "markdown",
      "source": [
        "## Exercise 3:\n",
        "\n",
        "you will then need to be specific with:\n",
        "1. **which company** you are analysing on\n",
        "2. Which **api** you are using\n",
        "3. **Time range** declared before"
      ],
      "metadata": {
        "id": "q_T3-iHY9Pwq"
      }
    },
    {
      "cell_type": "code",
      "source": [
        "df = web.DataReader(name=\"TSLA\", data_source=\"yahoo\", start=start, end=end)"
      ],
      "metadata": {
        "id": "NvVUKluBwQK0"
      },
      "execution_count": null,
      "outputs": []
    },
    {
      "cell_type": "markdown",
      "source": [
        "## Exercise 4:\n",
        "\n",
        "Then use `.tail()` function to inspect the last 10 rows of the data."
      ],
      "metadata": {
        "id": "lTDRnvWb9lZw"
      }
    },
    {
      "cell_type": "code",
      "source": [
        "df.tail(10)"
      ],
      "metadata": {
        "id": "PJVCk_1T9t9_",
        "colab": {
          "base_uri": "https://localhost:8080/",
          "height": 394
        },
        "outputId": "9cfaa6e0-9336-47bb-bf9f-1961d9c66527"
      },
      "execution_count": null,
      "outputs": [
        {
          "output_type": "execute_result",
          "data": {
            "text/plain": [
              "                  High         Low        Open       Close       Volume  \\\n",
              "Date                                                                      \n",
              "2021-12-17  320.220001  303.013336  304.923340  310.856659  100437300.0   \n",
              "2021-12-20  307.230011  297.796661  303.566681  299.980011   56480100.0   \n",
              "2021-12-21  313.166656  295.373322  305.623322  312.843323   71517900.0   \n",
              "2021-12-22  338.553345  319.016663  321.886658  336.290009   93634200.0   \n",
              "2021-12-23  357.660004  332.519989  335.600006  355.666656   92713200.0   \n",
              "2021-12-27  372.333344  356.906677  357.890015  364.646667   71145900.0   \n",
              "2021-12-28  373.000000  359.473328  369.829987  362.823334   60324000.0   \n",
              "2021-12-29  368.000000  354.713318  366.213318  362.063324   56154000.0   \n",
              "2021-12-30  365.183319  351.049988  353.776672  356.779999   47040900.0   \n",
              "2021-12-31  360.666656  351.529999  357.813324  352.260010   40733700.0   \n",
              "\n",
              "             Adj Close  \n",
              "Date                    \n",
              "2021-12-17  310.856659  \n",
              "2021-12-20  299.980011  \n",
              "2021-12-21  312.843323  \n",
              "2021-12-22  336.290009  \n",
              "2021-12-23  355.666656  \n",
              "2021-12-27  364.646667  \n",
              "2021-12-28  362.823334  \n",
              "2021-12-29  362.063324  \n",
              "2021-12-30  356.779999  \n",
              "2021-12-31  352.260010  "
            ],
            "text/html": [
              "\n",
              "  <div id=\"df-7ed0a865-8116-4c3c-9a28-f31a0b8e0fe4\">\n",
              "    <div class=\"colab-df-container\">\n",
              "      <div>\n",
              "<style scoped>\n",
              "    .dataframe tbody tr th:only-of-type {\n",
              "        vertical-align: middle;\n",
              "    }\n",
              "\n",
              "    .dataframe tbody tr th {\n",
              "        vertical-align: top;\n",
              "    }\n",
              "\n",
              "    .dataframe thead th {\n",
              "        text-align: right;\n",
              "    }\n",
              "</style>\n",
              "<table border=\"1\" class=\"dataframe\">\n",
              "  <thead>\n",
              "    <tr style=\"text-align: right;\">\n",
              "      <th></th>\n",
              "      <th>High</th>\n",
              "      <th>Low</th>\n",
              "      <th>Open</th>\n",
              "      <th>Close</th>\n",
              "      <th>Volume</th>\n",
              "      <th>Adj Close</th>\n",
              "    </tr>\n",
              "    <tr>\n",
              "      <th>Date</th>\n",
              "      <th></th>\n",
              "      <th></th>\n",
              "      <th></th>\n",
              "      <th></th>\n",
              "      <th></th>\n",
              "      <th></th>\n",
              "    </tr>\n",
              "  </thead>\n",
              "  <tbody>\n",
              "    <tr>\n",
              "      <th>2021-12-17</th>\n",
              "      <td>320.220001</td>\n",
              "      <td>303.013336</td>\n",
              "      <td>304.923340</td>\n",
              "      <td>310.856659</td>\n",
              "      <td>100437300.0</td>\n",
              "      <td>310.856659</td>\n",
              "    </tr>\n",
              "    <tr>\n",
              "      <th>2021-12-20</th>\n",
              "      <td>307.230011</td>\n",
              "      <td>297.796661</td>\n",
              "      <td>303.566681</td>\n",
              "      <td>299.980011</td>\n",
              "      <td>56480100.0</td>\n",
              "      <td>299.980011</td>\n",
              "    </tr>\n",
              "    <tr>\n",
              "      <th>2021-12-21</th>\n",
              "      <td>313.166656</td>\n",
              "      <td>295.373322</td>\n",
              "      <td>305.623322</td>\n",
              "      <td>312.843323</td>\n",
              "      <td>71517900.0</td>\n",
              "      <td>312.843323</td>\n",
              "    </tr>\n",
              "    <tr>\n",
              "      <th>2021-12-22</th>\n",
              "      <td>338.553345</td>\n",
              "      <td>319.016663</td>\n",
              "      <td>321.886658</td>\n",
              "      <td>336.290009</td>\n",
              "      <td>93634200.0</td>\n",
              "      <td>336.290009</td>\n",
              "    </tr>\n",
              "    <tr>\n",
              "      <th>2021-12-23</th>\n",
              "      <td>357.660004</td>\n",
              "      <td>332.519989</td>\n",
              "      <td>335.600006</td>\n",
              "      <td>355.666656</td>\n",
              "      <td>92713200.0</td>\n",
              "      <td>355.666656</td>\n",
              "    </tr>\n",
              "    <tr>\n",
              "      <th>2021-12-27</th>\n",
              "      <td>372.333344</td>\n",
              "      <td>356.906677</td>\n",
              "      <td>357.890015</td>\n",
              "      <td>364.646667</td>\n",
              "      <td>71145900.0</td>\n",
              "      <td>364.646667</td>\n",
              "    </tr>\n",
              "    <tr>\n",
              "      <th>2021-12-28</th>\n",
              "      <td>373.000000</td>\n",
              "      <td>359.473328</td>\n",
              "      <td>369.829987</td>\n",
              "      <td>362.823334</td>\n",
              "      <td>60324000.0</td>\n",
              "      <td>362.823334</td>\n",
              "    </tr>\n",
              "    <tr>\n",
              "      <th>2021-12-29</th>\n",
              "      <td>368.000000</td>\n",
              "      <td>354.713318</td>\n",
              "      <td>366.213318</td>\n",
              "      <td>362.063324</td>\n",
              "      <td>56154000.0</td>\n",
              "      <td>362.063324</td>\n",
              "    </tr>\n",
              "    <tr>\n",
              "      <th>2021-12-30</th>\n",
              "      <td>365.183319</td>\n",
              "      <td>351.049988</td>\n",
              "      <td>353.776672</td>\n",
              "      <td>356.779999</td>\n",
              "      <td>47040900.0</td>\n",
              "      <td>356.779999</td>\n",
              "    </tr>\n",
              "    <tr>\n",
              "      <th>2021-12-31</th>\n",
              "      <td>360.666656</td>\n",
              "      <td>351.529999</td>\n",
              "      <td>357.813324</td>\n",
              "      <td>352.260010</td>\n",
              "      <td>40733700.0</td>\n",
              "      <td>352.260010</td>\n",
              "    </tr>\n",
              "  </tbody>\n",
              "</table>\n",
              "</div>\n",
              "      <button class=\"colab-df-convert\" onclick=\"convertToInteractive('df-7ed0a865-8116-4c3c-9a28-f31a0b8e0fe4')\"\n",
              "              title=\"Convert this dataframe to an interactive table.\"\n",
              "              style=\"display:none;\">\n",
              "        \n",
              "  <svg xmlns=\"http://www.w3.org/2000/svg\" height=\"24px\"viewBox=\"0 0 24 24\"\n",
              "       width=\"24px\">\n",
              "    <path d=\"M0 0h24v24H0V0z\" fill=\"none\"/>\n",
              "    <path d=\"M18.56 5.44l.94 2.06.94-2.06 2.06-.94-2.06-.94-.94-2.06-.94 2.06-2.06.94zm-11 1L8.5 8.5l.94-2.06 2.06-.94-2.06-.94L8.5 2.5l-.94 2.06-2.06.94zm10 10l.94 2.06.94-2.06 2.06-.94-2.06-.94-.94-2.06-.94 2.06-2.06.94z\"/><path d=\"M17.41 7.96l-1.37-1.37c-.4-.4-.92-.59-1.43-.59-.52 0-1.04.2-1.43.59L10.3 9.45l-7.72 7.72c-.78.78-.78 2.05 0 2.83L4 21.41c.39.39.9.59 1.41.59.51 0 1.02-.2 1.41-.59l7.78-7.78 2.81-2.81c.8-.78.8-2.07 0-2.86zM5.41 20L4 18.59l7.72-7.72 1.47 1.35L5.41 20z\"/>\n",
              "  </svg>\n",
              "      </button>\n",
              "      \n",
              "  <style>\n",
              "    .colab-df-container {\n",
              "      display:flex;\n",
              "      flex-wrap:wrap;\n",
              "      gap: 12px;\n",
              "    }\n",
              "\n",
              "    .colab-df-convert {\n",
              "      background-color: #E8F0FE;\n",
              "      border: none;\n",
              "      border-radius: 50%;\n",
              "      cursor: pointer;\n",
              "      display: none;\n",
              "      fill: #1967D2;\n",
              "      height: 32px;\n",
              "      padding: 0 0 0 0;\n",
              "      width: 32px;\n",
              "    }\n",
              "\n",
              "    .colab-df-convert:hover {\n",
              "      background-color: #E2EBFA;\n",
              "      box-shadow: 0px 1px 2px rgba(60, 64, 67, 0.3), 0px 1px 3px 1px rgba(60, 64, 67, 0.15);\n",
              "      fill: #174EA6;\n",
              "    }\n",
              "\n",
              "    [theme=dark] .colab-df-convert {\n",
              "      background-color: #3B4455;\n",
              "      fill: #D2E3FC;\n",
              "    }\n",
              "\n",
              "    [theme=dark] .colab-df-convert:hover {\n",
              "      background-color: #434B5C;\n",
              "      box-shadow: 0px 1px 3px 1px rgba(0, 0, 0, 0.15);\n",
              "      filter: drop-shadow(0px 1px 2px rgba(0, 0, 0, 0.3));\n",
              "      fill: #FFFFFF;\n",
              "    }\n",
              "  </style>\n",
              "\n",
              "      <script>\n",
              "        const buttonEl =\n",
              "          document.querySelector('#df-7ed0a865-8116-4c3c-9a28-f31a0b8e0fe4 button.colab-df-convert');\n",
              "        buttonEl.style.display =\n",
              "          google.colab.kernel.accessAllowed ? 'block' : 'none';\n",
              "\n",
              "        async function convertToInteractive(key) {\n",
              "          const element = document.querySelector('#df-7ed0a865-8116-4c3c-9a28-f31a0b8e0fe4');\n",
              "          const dataTable =\n",
              "            await google.colab.kernel.invokeFunction('convertToInteractive',\n",
              "                                                     [key], {});\n",
              "          if (!dataTable) return;\n",
              "\n",
              "          const docLinkHtml = 'Like what you see? Visit the ' +\n",
              "            '<a target=\"_blank\" href=https://colab.research.google.com/notebooks/data_table.ipynb>data table notebook</a>'\n",
              "            + ' to learn more about interactive tables.';\n",
              "          element.innerHTML = '';\n",
              "          dataTable['output_type'] = 'display_data';\n",
              "          await google.colab.output.renderOutput(dataTable, element);\n",
              "          const docLink = document.createElement('div');\n",
              "          docLink.innerHTML = docLinkHtml;\n",
              "          element.appendChild(docLink);\n",
              "        }\n",
              "      </script>\n",
              "    </div>\n",
              "  </div>\n",
              "  "
            ]
          },
          "metadata": {},
          "execution_count": 11
        }
      ]
    },
    {
      "cell_type": "markdown",
      "source": [
        "# 3. Stock analysis: Moving Average and Return Deviation"
      ],
      "metadata": {
        "id": "9ZN6cRUhxXEN"
      }
    },
    {
      "cell_type": "markdown",
      "source": [
        "## Exercise 5:\n",
        "\n",
        "Calculate the `moving average` of the stock market data you selected."
      ],
      "metadata": {
        "id": "XjiDyJCuxbSD"
      }
    },
    {
      "cell_type": "code",
      "source": [
        "# isolate the closing prices, indicate we are using the adjusted closing prices\n",
        "close_px = df['Adj Close']\n",
        "\n",
        "# (7)finish this cell, use the .rolling() function to set it as rolling window calculation with window size 20 and .mean() function to find the moving average\n",
        "mavg = close_px.rolling(20).mean()\n",
        "\n",
        "# inspect the results\n",
        "mavg.tail()"
      ],
      "metadata": {
        "id": "Q3UsvOQJxj_D",
        "colab": {
          "base_uri": "https://localhost:8080/"
        },
        "outputId": "47e0e4f9-76b2-476b-8f37-a65e1e60d97f"
      },
      "execution_count": null,
      "outputs": [
        {
          "output_type": "execute_result",
          "data": {
            "text/plain": [
              "Date\n",
              "2021-12-27    339.925833\n",
              "2021-12-28    339.117166\n",
              "2021-12-29    338.140999\n",
              "2021-12-30    337.729999\n",
              "2021-12-31    337.266333\n",
              "Name: Adj Close, dtype: float64"
            ]
          },
          "metadata": {},
          "execution_count": 12
        }
      ]
    },
    {
      "cell_type": "markdown",
      "source": [
        "## Exercise 6:\n",
        "Visualize the `mean average` by using `matplotlib`.\n"
      ],
      "metadata": {
        "id": "UDgmqQ_E0EZ8"
      }
    },
    {
      "cell_type": "code",
      "source": [
        "%matplotlib inline\n",
        "\n",
        "# change the style and figure size\n",
        "plt.style.use('ggplot')\n",
        "plt.rc('figure', figsize=(8,7))\n",
        "\n",
        "# (9)plot mavg and label it within the same line \n",
        "close_px.plot(label='AAPL')\n",
        "\n",
        "# label the y axis\n",
        "plt.ylabel(\"Adj Close\")\n",
        "# .legend() will explicitly list all the labels on the graph\n",
        "plt.legend()"
      ],
      "metadata": {
        "id": "-TxlK92P0Ivj",
        "colab": {
          "base_uri": "https://localhost:8080/",
          "height": 436
        },
        "outputId": "2e6c38cf-e198-42c0-d4d7-9a8ba2ce4d29"
      },
      "execution_count": null,
      "outputs": [
        {
          "output_type": "execute_result",
          "data": {
            "text/plain": [
              "<matplotlib.legend.Legend at 0x7fcf34bc8f10>"
            ]
          },
          "metadata": {},
          "execution_count": 14
        },
        {
          "output_type": "display_data",
          "data": {
            "text/plain": [
              "<Figure size 576x504 with 1 Axes>"
            ],
            "image/png": "[encoded data removed]"
          },
          "metadata": {}
        }
      ]
    },
    {
      "cell_type": "markdown",
      "source": [
        "## Exercise 7: \n",
        "Calculate `Return Deviation` and plot the graph."
      ],
      "metadata": {
        "id": "7Xon1ox_1MKp"
      }
    },
    {
      "cell_type": "code",
      "source": [
        "# (10) indicate we are using and compare the adjusted closing prices to find returns\n",
        "df['Returns'] = df['Adj Close'].pct_change()\n",
        "\n",
        "# (11)similarly, plot the graph and by setting the color to '#660099' in the brackets\n",
        "df['Returns'].plot(color='#660099')\n",
        "plt.ylabel(\"returns(USD in 100 shares)\")\n",
        "plt.legend()"
      ],
      "metadata": {
        "id": "LJ3ZsQyK1OtA",
        "colab": {
          "base_uri": "https://localhost:8080/",
          "height": 436
        },
        "outputId": "24ae1825-66d5-472d-e8f3-3294d69860ae"
      },
      "execution_count": null,
      "outputs": [
        {
          "output_type": "execute_result",
          "data": {
            "text/plain": [
              "<matplotlib.legend.Legend at 0x7fcf25e31f50>"
            ]
          },
          "metadata": {},
          "execution_count": 15
        },
        {
          "output_type": "display_data",
          "data": {
            "text/plain": [
              "<Figure size 576x504 with 1 Axes>"
            ],
            "image/png": "[encoded data removed]"
          },
          "metadata": {}
        }
      ]
    },
    {
      "cell_type": "markdown",
      "source": [
        "# 4. Statistical Moments"
      ],
      "metadata": {
        "id": "I5fI5-Vn2MYw"
      }
    },
    {
      "cell_type": "markdown",
      "source": [
        "## Exercise 8:\n",
        "Calculate the first moment (`mean` of youe annual return)"
      ],
      "metadata": {
        "id": "k1L8D_373fUT"
      }
    },
    {
      "cell_type": "code",
      "source": [
        "import numpy as np\n",
        "\n",
        "# the daily mean returns can be found by numpy without computing any maths\n",
        "daily_mean_returns = np.mean(df['Returns'])\n",
        "# + str will return the final results (a number) to a string (daily mean returns: a number)\n",
        "print(\"Daily Mean Returns: \" + str(daily_mean_returns))\n",
        "\n",
        "# (13)assume there are 252 trading days per year, use the formula introduced to finish this expression and find the annual mean returns\n",
        "annual_mean_returns = ((1+ daily_mean_returns)**252)-1\n",
        "print(\"Annual Mean Returns: \" + str(annual_mean_returns))"
      ],
      "metadata": {
        "id": "OBtW35Bu3jJx",
        "colab": {
          "base_uri": "https://localhost:8080/"
        },
        "outputId": "e25e513b-e30a-477b-a2bf-6d2ec2c9cf9a"
      },
      "execution_count": null,
      "outputs": [
        {
          "output_type": "stream",
          "name": "stdout",
          "text": [
            "Daily Mean Returns: 0.00248651106787464\n",
            "Annual Mean Returns: 0.8697842561569429\n"
          ]
        }
      ]
    },
    {
      "cell_type": "markdown",
      "source": [
        "## Exercise 9:\n",
        "Calculate the second moment (variance)"
      ],
      "metadata": {
        "id": "OjRkoJDG4SoT"
      }
    },
    {
      "cell_type": "code",
      "source": [
        "# daily standard deviation is also found by numpy library\n",
        "daily_std = np.std(df['Returns'])\n",
        "print(\"Daily Standard Deviation \" + str(daily_std))\n",
        "# annual standard deviation is equal to the daily standard deviation multiplied by the square root of the trading days per year (252)\n",
        "annual_std = daily_std*np.sqrt(252)\n",
        "print(\"Annual Standard Deviation \" + str(annual_std ))\n",
        "\n",
        "# using backslash n to separate these two pieces of information\n",
        "print('\\n')\n",
        "\n",
        "# this finds the daily variance\n",
        "daily_var= daily_std**2\n",
        "print(\"Daily Variance \" + str(daily_var))\n",
        "\n",
        "# (14)the calculation for annual variance is exactly in the same format of daily variance\n",
        "annual_var = annual_std**2\n",
        "print(\"Annual Variance \" + str(annual_var))"
      ],
      "metadata": {
        "id": "IpjcqcP04W-t",
        "colab": {
          "base_uri": "https://localhost:8080/"
        },
        "outputId": "194e00bb-5fe7-4667-a7c7-0eaafcbaf776"
      },
      "execution_count": null,
      "outputs": [
        {
          "output_type": "stream",
          "name": "stdout",
          "text": [
            "Daily Standard Deviation 0.0353865533820962\n",
            "Annual Standard Deviation 0.5617441200284289\n",
            "\n",
            "\n",
            "Daily Variance 0.0012522081602639441\n",
            "Annual Variance 0.3155564563865139\n"
          ]
        }
      ]
    },
    {
      "cell_type": "markdown",
      "source": [
        "## Exercise 10: \n",
        "Calculate the third moment (skewness)"
      ],
      "metadata": {
        "id": "T9RaBF965NOk"
      }
    },
    {
      "cell_type": "code",
      "source": [
        "import scipy \n",
        "# (15)import skew from scipy (Hint: all of the statistics functions are located in the submodule scipy.stats )\n",
        "import scipy.stats\n",
        "from scipy.stats import skew\n",
        "\n",
        "# remove all the missing values by .dropna()\n",
        "returns = df['Returns'].dropna()\n",
        "# skewness is also found by scipy straightforwardly\n",
        "skewness = skew(returns)\n",
        "print(\"Skewness: \" + str(skewness))"
      ],
      "metadata": {
        "id": "xuTR8Q8n5QGL",
        "colab": {
          "base_uri": "https://localhost:8080/"
        },
        "outputId": "b6951bb7-1699-43ed-ece8-b2a9ab4ea1b3"
      },
      "execution_count": null,
      "outputs": [
        {
          "output_type": "stream",
          "name": "stdout",
          "text": [
            "Skewness: 0.4060497163908038\n"
          ]
        }
      ]
    },
    {
      "cell_type": "markdown",
      "source": [
        "# 5. Result Analysis\n",
        "\n",
        "Based on the statistics you have calculated, pick three segments from the stock market data you have chosen: \n",
        "1. One increasing;\n",
        "2. One declining;\n",
        "3. One stable;\n",
        "\n",
        "And analyze their statistics respectively, briefly state how you can use the statistics taught on the Lecture session to identify whether a segment of stock market data is increasing, declining or keep stable in that time period."
      ],
      "metadata": {
        "id": "OPvhRaBV_FCn"
      }
    },
    {
      "cell_type": "code",
      "source": [],
      "metadata": {
        "id": "SL4zOHTU_GHk"
      },
      "execution_count": null,
      "outputs": []
    }
  ]
}